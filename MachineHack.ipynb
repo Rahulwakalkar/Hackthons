{
 "cells": [
  {
   "cell_type": "markdown",
   "id": "3a96d967",
   "metadata": {},
   "source": [
    "To build an ML model and predict the sales of each product from each outlet. The participants also need to use the model to analyse the properties of the product in the stores and find ways to increase sales.\n",
    "\n",
    "Data attributes: Item_ID: Item Identification Number Item_W: Item Weight Item_Type: Item Item_MRP: MRP of the Product Outlet_ID: Outlet ID Outlet_Year: Outlet Establishment year Outlet_Size: Size of the outlet Outlet_Type: Type of the outlet Sales: Total sales from the outle"
   ]
  },
  {
   "cell_type": "code",
   "execution_count": 1,
   "id": "177f1018",
   "metadata": {},
   "outputs": [],
   "source": [
    "import matplotlib.pyplot as plt\n",
    "import pandas as pd\n",
    "import numpy as np\n",
    "import seaborn as sns"
   ]
  },
  {
   "cell_type": "code",
   "execution_count": 2,
   "id": "18e58310",
   "metadata": {},
   "outputs": [],
   "source": [
    "train = pd.read_csv(\"train.csv\")\n",
    "test = pd.read_csv(\"test.csv\")"
   ]
  },
  {
   "cell_type": "code",
   "execution_count": 3,
   "id": "b3182908",
   "metadata": {},
   "outputs": [
    {
     "data": {
      "text/html": [
       "<div>\n",
       "<style scoped>\n",
       "    .dataframe tbody tr th:only-of-type {\n",
       "        vertical-align: middle;\n",
       "    }\n",
       "\n",
       "    .dataframe tbody tr th {\n",
       "        vertical-align: top;\n",
       "    }\n",
       "\n",
       "    .dataframe thead th {\n",
       "        text-align: right;\n",
       "    }\n",
       "</style>\n",
       "<table border=\"1\" class=\"dataframe\">\n",
       "  <thead>\n",
       "    <tr style=\"text-align: right;\">\n",
       "      <th></th>\n",
       "      <th>Item_ID</th>\n",
       "      <th>Item_W</th>\n",
       "      <th>Item_Type</th>\n",
       "      <th>Item_MRP</th>\n",
       "      <th>Outlet_ID</th>\n",
       "      <th>Outlet_Year</th>\n",
       "      <th>Outlet_Size</th>\n",
       "      <th>Outlet_Location_Type</th>\n",
       "      <th>Sales</th>\n",
       "    </tr>\n",
       "  </thead>\n",
       "  <tbody>\n",
       "    <tr>\n",
       "      <th>0</th>\n",
       "      <td>FDU32</td>\n",
       "      <td>21.027499</td>\n",
       "      <td>Baking Goods</td>\n",
       "      <td>197.352319</td>\n",
       "      <td>OUT046</td>\n",
       "      <td>2004</td>\n",
       "      <td>Small</td>\n",
       "      <td>Tier 2</td>\n",
       "      <td>2689.457781</td>\n",
       "    </tr>\n",
       "    <tr>\n",
       "      <th>1</th>\n",
       "      <td>NCT54</td>\n",
       "      <td>21.102371</td>\n",
       "      <td>Meat</td>\n",
       "      <td>148.250214</td>\n",
       "      <td>OUT035</td>\n",
       "      <td>1987</td>\n",
       "      <td>Small</td>\n",
       "      <td>Tier 1</td>\n",
       "      <td>3437.350375</td>\n",
       "    </tr>\n",
       "    <tr>\n",
       "      <th>2</th>\n",
       "      <td>FDW08</td>\n",
       "      <td>20.882263</td>\n",
       "      <td>Hard Drinks</td>\n",
       "      <td>205.465010</td>\n",
       "      <td>OUT035</td>\n",
       "      <td>1999</td>\n",
       "      <td>Small</td>\n",
       "      <td>Tier 3</td>\n",
       "      <td>3129.967268</td>\n",
       "    </tr>\n",
       "    <tr>\n",
       "      <th>3</th>\n",
       "      <td>FDJ22</td>\n",
       "      <td>21.050435</td>\n",
       "      <td>Starchy Foods</td>\n",
       "      <td>253.417583</td>\n",
       "      <td>OUT046</td>\n",
       "      <td>1996</td>\n",
       "      <td>Small</td>\n",
       "      <td>Tier 1</td>\n",
       "      <td>1306.514376</td>\n",
       "    </tr>\n",
       "    <tr>\n",
       "      <th>4</th>\n",
       "      <td>FDF47</td>\n",
       "      <td>21.247876</td>\n",
       "      <td>Baking Goods</td>\n",
       "      <td>240.871039</td>\n",
       "      <td>OUT035</td>\n",
       "      <td>1988</td>\n",
       "      <td>Small</td>\n",
       "      <td>Tier 3</td>\n",
       "      <td>1739.769829</td>\n",
       "    </tr>\n",
       "  </tbody>\n",
       "</table>\n",
       "</div>"
      ],
      "text/plain": [
       "  Item_ID     Item_W      Item_Type    Item_MRP Outlet_ID  Outlet_Year  \\\n",
       "0   FDU32  21.027499   Baking Goods  197.352319    OUT046         2004   \n",
       "1   NCT54  21.102371           Meat  148.250214    OUT035         1987   \n",
       "2   FDW08  20.882263    Hard Drinks  205.465010    OUT035         1999   \n",
       "3   FDJ22  21.050435  Starchy Foods  253.417583    OUT046         1996   \n",
       "4   FDF47  21.247876   Baking Goods  240.871039    OUT035         1988   \n",
       "\n",
       "  Outlet_Size Outlet_Location_Type        Sales  \n",
       "0       Small               Tier 2  2689.457781  \n",
       "1       Small               Tier 1  3437.350375  \n",
       "2       Small               Tier 3  3129.967268  \n",
       "3       Small               Tier 1  1306.514376  \n",
       "4       Small               Tier 3  1739.769829  "
      ]
     },
     "execution_count": 3,
     "metadata": {},
     "output_type": "execute_result"
    }
   ],
   "source": [
    "train.head()"
   ]
  },
  {
   "cell_type": "code",
   "execution_count": 4,
   "id": "64779689",
   "metadata": {},
   "outputs": [
    {
     "data": {
      "text/html": [
       "<div>\n",
       "<style scoped>\n",
       "    .dataframe tbody tr th:only-of-type {\n",
       "        vertical-align: middle;\n",
       "    }\n",
       "\n",
       "    .dataframe tbody tr th {\n",
       "        vertical-align: top;\n",
       "    }\n",
       "\n",
       "    .dataframe thead th {\n",
       "        text-align: right;\n",
       "    }\n",
       "</style>\n",
       "<table border=\"1\" class=\"dataframe\">\n",
       "  <thead>\n",
       "    <tr style=\"text-align: right;\">\n",
       "      <th></th>\n",
       "      <th>Item_ID</th>\n",
       "      <th>Item_W</th>\n",
       "      <th>Item_Type</th>\n",
       "      <th>Item_MRP</th>\n",
       "      <th>Outlet_ID</th>\n",
       "      <th>Outlet_Year</th>\n",
       "      <th>Outlet_Size</th>\n",
       "      <th>Outlet_Location_Type</th>\n",
       "    </tr>\n",
       "  </thead>\n",
       "  <tbody>\n",
       "    <tr>\n",
       "      <th>0</th>\n",
       "      <td>DRM23</td>\n",
       "      <td>10.156725</td>\n",
       "      <td>Snack Foods</td>\n",
       "      <td>119.319482</td>\n",
       "      <td>OUT013</td>\n",
       "      <td>1999</td>\n",
       "      <td>High</td>\n",
       "      <td>Tier 3</td>\n",
       "    </tr>\n",
       "    <tr>\n",
       "      <th>1</th>\n",
       "      <td>FDG47</td>\n",
       "      <td>10.434425</td>\n",
       "      <td>Household</td>\n",
       "      <td>263.600449</td>\n",
       "      <td>OUT018</td>\n",
       "      <td>1987</td>\n",
       "      <td>High</td>\n",
       "      <td>Tier 3</td>\n",
       "    </tr>\n",
       "    <tr>\n",
       "      <th>2</th>\n",
       "      <td>FDN21</td>\n",
       "      <td>11.953589</td>\n",
       "      <td>Health and Hygiene</td>\n",
       "      <td>246.286990</td>\n",
       "      <td>OUT018</td>\n",
       "      <td>1997</td>\n",
       "      <td>High</td>\n",
       "      <td>Tier 1</td>\n",
       "    </tr>\n",
       "    <tr>\n",
       "      <th>3</th>\n",
       "      <td>FDZ23</td>\n",
       "      <td>14.948546</td>\n",
       "      <td>Dairy</td>\n",
       "      <td>136.200508</td>\n",
       "      <td>OUT046</td>\n",
       "      <td>2004</td>\n",
       "      <td>Medium</td>\n",
       "      <td>Tier 2</td>\n",
       "    </tr>\n",
       "    <tr>\n",
       "      <th>4</th>\n",
       "      <td>FDC16</td>\n",
       "      <td>11.080042</td>\n",
       "      <td>Canned</td>\n",
       "      <td>173.145664</td>\n",
       "      <td>OUT018</td>\n",
       "      <td>2009</td>\n",
       "      <td>Medium</td>\n",
       "      <td>Tier 3</td>\n",
       "    </tr>\n",
       "  </tbody>\n",
       "</table>\n",
       "</div>"
      ],
      "text/plain": [
       "  Item_ID     Item_W           Item_Type    Item_MRP Outlet_ID  Outlet_Year  \\\n",
       "0   DRM23  10.156725         Snack Foods  119.319482    OUT013         1999   \n",
       "1   FDG47  10.434425           Household  263.600449    OUT018         1987   \n",
       "2   FDN21  11.953589  Health and Hygiene  246.286990    OUT018         1997   \n",
       "3   FDZ23  14.948546               Dairy  136.200508    OUT046         2004   \n",
       "4   FDC16  11.080042              Canned  173.145664    OUT018         2009   \n",
       "\n",
       "  Outlet_Size Outlet_Location_Type  \n",
       "0        High               Tier 3  \n",
       "1        High               Tier 3  \n",
       "2        High               Tier 1  \n",
       "3      Medium               Tier 2  \n",
       "4      Medium               Tier 3  "
      ]
     },
     "execution_count": 4,
     "metadata": {},
     "output_type": "execute_result"
    }
   ],
   "source": [
    "test.head()"
   ]
  },
  {
   "cell_type": "code",
   "execution_count": 5,
   "id": "c58afbe2",
   "metadata": {},
   "outputs": [
    {
     "data": {
      "text/plain": [
       "((87864, 9), (37656, 8))"
      ]
     },
     "execution_count": 5,
     "metadata": {},
     "output_type": "execute_result"
    }
   ],
   "source": [
    "train.shape,test.shape"
   ]
  },
  {
   "cell_type": "code",
   "execution_count": 6,
   "id": "dbc2ca1c",
   "metadata": {},
   "outputs": [
    {
     "data": {
      "text/plain": [
       "Item_ID                  object\n",
       "Item_W                  float64\n",
       "Item_Type                object\n",
       "Item_MRP                float64\n",
       "Outlet_ID                object\n",
       "Outlet_Year               int64\n",
       "Outlet_Size              object\n",
       "Outlet_Location_Type     object\n",
       "Sales                   float64\n",
       "dtype: object"
      ]
     },
     "execution_count": 6,
     "metadata": {},
     "output_type": "execute_result"
    }
   ],
   "source": [
    "train.dtypes"
   ]
  },
  {
   "cell_type": "code",
   "execution_count": 7,
   "id": "2b18f6fc",
   "metadata": {},
   "outputs": [
    {
     "data": {
      "text/plain": [
       "Item_ID                  object\n",
       "Item_W                  float64\n",
       "Item_Type                object\n",
       "Item_MRP                float64\n",
       "Outlet_ID                object\n",
       "Outlet_Year               int64\n",
       "Outlet_Size              object\n",
       "Outlet_Location_Type     object\n",
       "dtype: object"
      ]
     },
     "execution_count": 7,
     "metadata": {},
     "output_type": "execute_result"
    }
   ],
   "source": [
    "test.dtypes"
   ]
  },
  {
   "cell_type": "code",
   "execution_count": 8,
   "id": "d82821c5",
   "metadata": {},
   "outputs": [
    {
     "data": {
      "text/plain": [
       "Item_ID                 0\n",
       "Item_W                  0\n",
       "Item_Type               0\n",
       "Item_MRP                0\n",
       "Outlet_ID               0\n",
       "Outlet_Year             0\n",
       "Outlet_Size             0\n",
       "Outlet_Location_Type    0\n",
       "Sales                   0\n",
       "dtype: int64"
      ]
     },
     "execution_count": 8,
     "metadata": {},
     "output_type": "execute_result"
    }
   ],
   "source": [
    "train.isnull().sum()"
   ]
  },
  {
   "cell_type": "code",
   "execution_count": 9,
   "id": "8ab1c8e1",
   "metadata": {},
   "outputs": [
    {
     "data": {
      "text/plain": [
       "Item_ID                 0\n",
       "Item_W                  0\n",
       "Item_Type               0\n",
       "Item_MRP                0\n",
       "Outlet_ID               0\n",
       "Outlet_Year             0\n",
       "Outlet_Size             0\n",
       "Outlet_Location_Type    0\n",
       "dtype: int64"
      ]
     },
     "execution_count": 9,
     "metadata": {},
     "output_type": "execute_result"
    }
   ],
   "source": [
    "test.isnull().sum()"
   ]
  },
  {
   "cell_type": "code",
   "execution_count": 10,
   "id": "aa156335",
   "metadata": {},
   "outputs": [],
   "source": [
    "train.drop(columns=['Item_ID'],axis = 1,inplace = True)"
   ]
  },
  {
   "cell_type": "code",
   "execution_count": 11,
   "id": "312a1252",
   "metadata": {},
   "outputs": [
    {
     "name": "stderr",
     "output_type": "stream",
     "text": [
      "<ipython-input-11-afa1baf55959>:1: FutureWarning: Indexing with multiple keys (implicitly converted to a tuple of keys) will be deprecated, use a list instead.\n",
      "  train.groupby('Item_Type')['Item_MRP','Item_W'].mean()\n"
     ]
    },
    {
     "data": {
      "text/html": [
       "<div>\n",
       "<style scoped>\n",
       "    .dataframe tbody tr th:only-of-type {\n",
       "        vertical-align: middle;\n",
       "    }\n",
       "\n",
       "    .dataframe tbody tr th {\n",
       "        vertical-align: top;\n",
       "    }\n",
       "\n",
       "    .dataframe thead th {\n",
       "        text-align: right;\n",
       "    }\n",
       "</style>\n",
       "<table border=\"1\" class=\"dataframe\">\n",
       "  <thead>\n",
       "    <tr style=\"text-align: right;\">\n",
       "      <th></th>\n",
       "      <th>Item_MRP</th>\n",
       "      <th>Item_W</th>\n",
       "    </tr>\n",
       "    <tr>\n",
       "      <th>Item_Type</th>\n",
       "      <th></th>\n",
       "      <th></th>\n",
       "    </tr>\n",
       "  </thead>\n",
       "  <tbody>\n",
       "    <tr>\n",
       "      <th>Baking Goods</th>\n",
       "      <td>150.702459</td>\n",
       "      <td>15.053796</td>\n",
       "    </tr>\n",
       "    <tr>\n",
       "      <th>Breads</th>\n",
       "      <td>147.199312</td>\n",
       "      <td>15.270986</td>\n",
       "    </tr>\n",
       "    <tr>\n",
       "      <th>Breakfast</th>\n",
       "      <td>156.858735</td>\n",
       "      <td>16.637266</td>\n",
       "    </tr>\n",
       "    <tr>\n",
       "      <th>Canned</th>\n",
       "      <td>153.352637</td>\n",
       "      <td>16.179592</td>\n",
       "    </tr>\n",
       "    <tr>\n",
       "      <th>Dairy</th>\n",
       "      <td>155.376347</td>\n",
       "      <td>16.564873</td>\n",
       "    </tr>\n",
       "    <tr>\n",
       "      <th>Frozen Foods</th>\n",
       "      <td>154.739848</td>\n",
       "      <td>16.436911</td>\n",
       "    </tr>\n",
       "    <tr>\n",
       "      <th>Fruits and Vegetables</th>\n",
       "      <td>147.637898</td>\n",
       "      <td>15.340384</td>\n",
       "    </tr>\n",
       "    <tr>\n",
       "      <th>Hard Drinks</th>\n",
       "      <td>151.503811</td>\n",
       "      <td>14.901788</td>\n",
       "    </tr>\n",
       "    <tr>\n",
       "      <th>Health and Hygiene</th>\n",
       "      <td>154.309473</td>\n",
       "      <td>16.252626</td>\n",
       "    </tr>\n",
       "    <tr>\n",
       "      <th>Household</th>\n",
       "      <td>154.517991</td>\n",
       "      <td>16.264300</td>\n",
       "    </tr>\n",
       "    <tr>\n",
       "      <th>Meat</th>\n",
       "      <td>151.695326</td>\n",
       "      <td>14.918820</td>\n",
       "    </tr>\n",
       "    <tr>\n",
       "      <th>Others</th>\n",
       "      <td>148.687969</td>\n",
       "      <td>14.957866</td>\n",
       "    </tr>\n",
       "    <tr>\n",
       "      <th>Seafood</th>\n",
       "      <td>151.255273</td>\n",
       "      <td>15.184987</td>\n",
       "    </tr>\n",
       "    <tr>\n",
       "      <th>Snack Foods</th>\n",
       "      <td>154.001620</td>\n",
       "      <td>16.476871</td>\n",
       "    </tr>\n",
       "    <tr>\n",
       "      <th>Soft Drinks</th>\n",
       "      <td>149.410418</td>\n",
       "      <td>15.513756</td>\n",
       "    </tr>\n",
       "    <tr>\n",
       "      <th>Starchy Foods</th>\n",
       "      <td>148.300318</td>\n",
       "      <td>15.280808</td>\n",
       "    </tr>\n",
       "  </tbody>\n",
       "</table>\n",
       "</div>"
      ],
      "text/plain": [
       "                         Item_MRP     Item_W\n",
       "Item_Type                                   \n",
       "Baking Goods           150.702459  15.053796\n",
       "Breads                 147.199312  15.270986\n",
       "Breakfast              156.858735  16.637266\n",
       "Canned                 153.352637  16.179592\n",
       "Dairy                  155.376347  16.564873\n",
       "Frozen Foods           154.739848  16.436911\n",
       "Fruits and Vegetables  147.637898  15.340384\n",
       "Hard Drinks            151.503811  14.901788\n",
       "Health and Hygiene     154.309473  16.252626\n",
       "Household              154.517991  16.264300\n",
       "Meat                   151.695326  14.918820\n",
       "Others                 148.687969  14.957866\n",
       "Seafood                151.255273  15.184987\n",
       "Snack Foods            154.001620  16.476871\n",
       "Soft Drinks            149.410418  15.513756\n",
       "Starchy Foods          148.300318  15.280808"
      ]
     },
     "execution_count": 11,
     "metadata": {},
     "output_type": "execute_result"
    }
   ],
   "source": [
    "train.groupby('Item_Type')['Item_MRP','Item_W'].mean()"
   ]
  },
  {
   "cell_type": "code",
   "execution_count": 12,
   "id": "dca3344b",
   "metadata": {},
   "outputs": [
    {
     "data": {
      "text/plain": [
       "Outlet_Size  Outlet_Location_Type\n",
       "High         Tier 1                   3807\n",
       "             Tier 2                   3059\n",
       "             Tier 3                   5701\n",
       "Medium       Tier 1                   4995\n",
       "             Tier 2                   3417\n",
       "             Tier 3                  18271\n",
       "Small        Tier 1                  24765\n",
       "             Tier 2                  18777\n",
       "             Tier 3                   5072\n",
       "Name: Sales, dtype: int64"
      ]
     },
     "execution_count": 12,
     "metadata": {},
     "output_type": "execute_result"
    }
   ],
   "source": [
    "train.groupby(['Outlet_Size','Outlet_Location_Type'])['Sales'].count()"
   ]
  },
  {
   "cell_type": "code",
   "execution_count": 13,
   "id": "ffdcf157",
   "metadata": {},
   "outputs": [
    {
     "data": {
      "text/plain": [
       "<AxesSubplot:>"
      ]
     },
     "execution_count": 13,
     "metadata": {},
     "output_type": "execute_result"
    },
    {
     "data": {
      "image/png": "[encoded data removed]",
      "text/plain": [
       "<Figure size 432x288 with 1 Axes>"
      ]
     },
     "metadata": {
      "needs_background": "light"
     },
     "output_type": "display_data"
    }
   ],
   "source": [
    "train.boxplot(column = 'Sales')"
   ]
  },
  {
   "cell_type": "code",
   "execution_count": 14,
   "id": "d37e0102",
   "metadata": {},
   "outputs": [
    {
     "name": "stdout",
     "output_type": "stream",
     "text": [
      "IQR for train : Item_W            9.001278\n",
      "Item_MRP         84.687030\n",
      "Outlet_Year       7.000000\n",
      "Sales          1648.808061\n",
      "dtype: float64\n"
     ]
    }
   ],
   "source": [
    "q1 = train.quantile(q = 0.25)\n",
    "q3 = train.quantile(q = 0.75)\n",
    "iqr = q3 - q1\n",
    "print('IQR for train :',iqr)"
   ]
  },
  {
   "cell_type": "code",
   "execution_count": 15,
   "id": "844c2aaa",
   "metadata": {},
   "outputs": [],
   "source": [
    "def remove_outlier(col):\n",
    "    sorted(col)\n",
    "    Q1,Q3=col.quantile([0.25,0.75])\n",
    "    IQR = Q3-Q1\n",
    "    lower_range = Q1-(1.5*IQR)\n",
    "    upper_range = Q3+(1.5*IQR)\n",
    "    return lower_range,upper_range"
   ]
  },
  {
   "cell_type": "code",
   "execution_count": 16,
   "id": "908ae963",
   "metadata": {},
   "outputs": [],
   "source": [
    "lowprice,uppprice = remove_outlier(train['Sales'])\n",
    "train['Sales']=np.where(train['Sales']>uppprice,uppprice,train['Sales'])\n",
    "train['Sales']=np.where(train['Sales']<lowprice,lowprice,train['Sales'])"
   ]
  },
  {
   "cell_type": "code",
   "execution_count": 17,
   "id": "bbdfe75a",
   "metadata": {},
   "outputs": [],
   "source": [
    "lowprice,uppprice = remove_outlier(train['Item_MRP'])\n",
    "train['Item_MRP']=np.where(train['Item_MRP']>uppprice,uppprice,train['Item_MRP'])\n",
    "train['Item_MRP']=np.where(train['Item_MRP']<lowprice,lowprice,train['Item_MRP'])"
   ]
  },
  {
   "cell_type": "code",
   "execution_count": 18,
   "id": "fe7a371a",
   "metadata": {},
   "outputs": [],
   "source": [
    "train.drop(['Item_Type','Outlet_ID'],axis=1,inplace = True)"
   ]
  },
  {
   "cell_type": "code",
   "execution_count": 19,
   "id": "dbb3f5d3",
   "metadata": {},
   "outputs": [],
   "source": [
    "df = pd.get_dummies(train)"
   ]
  },
  {
   "cell_type": "code",
   "execution_count": 20,
   "id": "ea2b3216",
   "metadata": {},
   "outputs": [
    {
     "data": {
      "text/plain": [
       "Item_W                         float64\n",
       "Item_MRP                       float64\n",
       "Outlet_Year                      int64\n",
       "Sales                          float64\n",
       "Outlet_Size_High                 uint8\n",
       "Outlet_Size_Medium               uint8\n",
       "Outlet_Size_Small                uint8\n",
       "Outlet_Location_Type_Tier 1      uint8\n",
       "Outlet_Location_Type_Tier 2      uint8\n",
       "Outlet_Location_Type_Tier 3      uint8\n",
       "dtype: object"
      ]
     },
     "execution_count": 20,
     "metadata": {},
     "output_type": "execute_result"
    }
   ],
   "source": [
    "df.dtypes"
   ]
  },
  {
   "cell_type": "code",
   "execution_count": 21,
   "id": "8ac36831",
   "metadata": {},
   "outputs": [],
   "source": [
    "test.drop(['Item_ID','Item_Type','Outlet_ID'],axis = 1,inplace = True)"
   ]
  },
  {
   "cell_type": "code",
   "execution_count": 22,
   "id": "d3bcecee",
   "metadata": {},
   "outputs": [],
   "source": [
    "df1 = pd.get_dummies(test)"
   ]
  },
  {
   "cell_type": "code",
   "execution_count": 23,
   "id": "b8389a2f",
   "metadata": {},
   "outputs": [],
   "source": [
    "X = df.drop(columns=['Sales'])\n",
    "y = df['Sales']\n",
    "X_test = df1"
   ]
  },
  {
   "cell_type": "code",
   "execution_count": 24,
   "id": "5f9a0b44",
   "metadata": {},
   "outputs": [],
   "source": [
    "from sklearn.model_selection import train_test_split\n",
    "X_train, X_test, y_train, y_test = train_test_split(X, y,test_size =0.25, random_state=0)"
   ]
  },
  {
   "cell_type": "code",
   "execution_count": 25,
   "id": "77a5cb19",
   "metadata": {},
   "outputs": [],
   "source": [
    "import seaborn as sns\n",
    "import statsmodels.api as sm\n",
    "from sklearn.preprocessing import MinMaxScaler"
   ]
  },
  {
   "cell_type": "code",
   "execution_count": 26,
   "id": "e4e9d16b",
   "metadata": {},
   "outputs": [],
   "source": [
    "def backward_elimination(df, target,significance_level = 0.05):\n",
    "    features = df.columns.tolist()\n",
    "    while(len(features)>0):\n",
    "        features_with_constant = sm.add_constant(df[features])\n",
    "        p_values = sm.OLS(target, features_with_constant).fit().pvalues[1:]\n",
    "        max_p_value = p_values.max()\n",
    "        if(max_p_value >= significance_level):\n",
    "            excluded_feature = p_values.idxmax()\n",
    "            features.remove(excluded_feature)\n",
    "        else:\n",
    "            break \n",
    "    return features\n",
    "\n",
    "features = backward_elimination(X_train,y_train)"
   ]
  },
  {
   "cell_type": "code",
   "execution_count": 27,
   "id": "93aa53d7",
   "metadata": {},
   "outputs": [],
   "source": [
    "features = list(set(features))"
   ]
  },
  {
   "cell_type": "code",
   "execution_count": 28,
   "id": "e693c075",
   "metadata": {},
   "outputs": [],
   "source": [
    "from sklearn.linear_model import LinearRegression, Lasso, Ridge\n",
    "from sklearn.tree import DecisionTreeRegressor\n",
    "from sklearn.ensemble import RandomForestRegressor\n",
    "from sklearn.svm import SVR\n",
    "from sklearn.model_selection import train_test_split\n",
    "from sklearn.metrics import mean_squared_error"
   ]
  },
  {
   "cell_type": "code",
   "execution_count": 29,
   "id": "1445af9a",
   "metadata": {},
   "outputs": [],
   "source": [
    "lr = LinearRegression()\n",
    "ls = Lasso()\n",
    "rd = Ridge()\n",
    "dr = DecisionTreeRegressor()\n"
   ]
  },
  {
   "cell_type": "code",
   "execution_count": 30,
   "id": "4d8be6d0",
   "metadata": {},
   "outputs": [
    {
     "name": "stdout",
     "output_type": "stream",
     "text": [
      "Running Linear Regression\n",
      "\n",
      "Root mean squared error using Linear Regressionis 1218.31\n",
      "----------------------------------------------------------------------------------------------------\n",
      "\n",
      "Running Lasso\n",
      "\n",
      "Root mean squared error using Lassois 1218.38\n",
      "----------------------------------------------------------------------------------------------------\n",
      "\n",
      "Running Ridge\n",
      "\n",
      "Root mean squared error using Ridgeis 1218.31\n",
      "----------------------------------------------------------------------------------------------------\n",
      "\n",
      "Running Decission Tree Reg\n",
      "\n",
      "Root mean squared error using Decission Tree Regis 1726.49\n",
      "----------------------------------------------------------------------------------------------------\n",
      "\n"
     ]
    }
   ],
   "source": [
    "model_ls = [(lr, 'Linear Regression'),(ls, 'Lasso'),(rd, 'Ridge'),(dr, 'Decission Tree Reg')]\n",
    "\n",
    "# Iterate over each model\n",
    "\n",
    "for item in model_ls:\n",
    "    model = item[0]\n",
    "    name = item[1]\n",
    "    print(f'Running {name}')\n",
    "    print('')\n",
    "\n",
    "\n",
    "# Train the model\n",
    "\n",
    "    model.fit(X_train[features], y_train)\n",
    "\n",
    "# predict the results\n",
    "\n",
    "    pred = model.predict(X_test[features])\n",
    "\n",
    "# calculate the root mean squared error\n",
    "\n",
    "    error = round(np.sqrt(mean_squared_error(y_test, pred)),2)\n",
    "\n",
    "# print the value\n",
    "\n",
    "    print (f'Root mean squared error using {name}is {error}')\n",
    "    print ('-'*100)\n",
    "    print('')"
   ]
  },
  {
   "cell_type": "code",
   "execution_count": 31,
   "id": "9a6e8113",
   "metadata": {},
   "outputs": [
    {
     "data": {
      "text/plain": [
       "LinearRegression()"
      ]
     },
     "execution_count": 31,
     "metadata": {},
     "output_type": "execute_result"
    }
   ],
   "source": [
    "lr.fit(X_train[features],y_train)"
   ]
  },
  {
   "cell_type": "code",
   "execution_count": 32,
   "id": "a7932fb9",
   "metadata": {},
   "outputs": [],
   "source": [
    "pred = lr.predict(df1[features])"
   ]
  },
  {
   "cell_type": "code",
   "execution_count": 33,
   "id": "08fd5251",
   "metadata": {},
   "outputs": [],
   "source": [
    "df2 = { \n",
    "        \"Sales\": pd.Series(pred) \n",
    "       } \n",
    "df2 = pd.concat(df2, \n",
    "               axis = 1) \n",
    "df2.head()\n",
    "\n",
    "df2.to_csv('Submission1.csv', index=False)"
   ]
  },
  {
   "cell_type": "code",
   "execution_count": null,
   "id": "8f5517e4",
   "metadata": {},
   "outputs": [],
   "source": []
  }
 ],
 "metadata": {
  "kernelspec": {
   "display_name": "Python 3 (ipykernel)",
   "language": "python",
   "name": "python3"
  },
  "language_info": {
   "codemirror_mode": {
    "name": "ipython",
    "version": 3
   },
   "file_extension": ".py",
   "mimetype": "text/x-python",
   "name": "python",
   "nbconvert_exporter": "python",
   "pygments_lexer": "ipython3",
   "version": "3.9.12"
  }
 },
 "nbformat": 4,
 "nbformat_minor": 5
}
