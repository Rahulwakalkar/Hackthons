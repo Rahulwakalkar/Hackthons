{
 "cells": [
  {
   "cell_type": "markdown",
   "id": "41449857",
   "metadata": {},
   "source": [
    "To build an ML model and predict the sales of each product from each outlet. The participants also need to use the model to analyse the properties of the product in the stores and find ways to increase sales."
   ]
  },
  {
   "cell_type": "markdown",
   "id": "6e535f1b",
   "metadata": {},
   "source": [
    "Data attributes: \n",
    "Item_ID: Item Identification Number\n",
    "Item_W: Item Weight\n",
    "Item_Type: Item\n",
    "Item_MRP: MRP of the Product\n",
    "Outlet_ID: Outlet ID\n",
    "Outlet_Year: Outlet Establishment year\n",
    "Outlet_Size: Size of the outlet\n",
    "Outlet_Type: Type of the outlet\n",
    "Sales: Total sales from the outle"
   ]
  },
  {
   "cell_type": "code",
   "execution_count": 1,
   "id": "e6d97191",
   "metadata": {},
   "outputs": [],
   "source": [
    "import matplotlib.pyplot as plt\n",
    "import pandas as pd\n",
    "import numpy as np\n",
    "import seaborn as sns"
   ]
  },
  {
   "cell_type": "code",
   "execution_count": 2,
   "id": "f5e655f4",
   "metadata": {},
   "outputs": [],
   "source": [
    "train = pd.read_csv(\"train.csv\")\n",
    "test = pd.read_csv(\"test.csv\")"
   ]
  },
  {
   "cell_type": "code",
   "execution_count": 3,
   "id": "649d6070",
   "metadata": {},
   "outputs": [
    {
     "data": {
      "text/html": [
       "<div>\n",
       "<style scoped>\n",
       "    .dataframe tbody tr th:only-of-type {\n",
       "        vertical-align: middle;\n",
       "    }\n",
       "\n",
       "    .dataframe tbody tr th {\n",
       "        vertical-align: top;\n",
       "    }\n",
       "\n",
       "    .dataframe thead th {\n",
       "        text-align: right;\n",
       "    }\n",
       "</style>\n",
       "<table border=\"1\" class=\"dataframe\">\n",
       "  <thead>\n",
       "    <tr style=\"text-align: right;\">\n",
       "      <th></th>\n",
       "      <th>Item_ID</th>\n",
       "      <th>Item_W</th>\n",
       "      <th>Item_Type</th>\n",
       "      <th>Item_MRP</th>\n",
       "      <th>Outlet_ID</th>\n",
       "      <th>Outlet_Year</th>\n",
       "      <th>Outlet_Size</th>\n",
       "      <th>Outlet_Location_Type</th>\n",
       "      <th>Sales</th>\n",
       "    </tr>\n",
       "  </thead>\n",
       "  <tbody>\n",
       "    <tr>\n",
       "      <th>0</th>\n",
       "      <td>FDU32</td>\n",
       "      <td>21.027499</td>\n",
       "      <td>Baking Goods</td>\n",
       "      <td>197.352319</td>\n",
       "      <td>OUT046</td>\n",
       "      <td>2004</td>\n",
       "      <td>Small</td>\n",
       "      <td>Tier 2</td>\n",
       "      <td>2689.457781</td>\n",
       "    </tr>\n",
       "    <tr>\n",
       "      <th>1</th>\n",
       "      <td>NCT54</td>\n",
       "      <td>21.102371</td>\n",
       "      <td>Meat</td>\n",
       "      <td>148.250214</td>\n",
       "      <td>OUT035</td>\n",
       "      <td>1987</td>\n",
       "      <td>Small</td>\n",
       "      <td>Tier 1</td>\n",
       "      <td>3437.350375</td>\n",
       "    </tr>\n",
       "    <tr>\n",
       "      <th>2</th>\n",
       "      <td>FDW08</td>\n",
       "      <td>20.882263</td>\n",
       "      <td>Hard Drinks</td>\n",
       "      <td>205.465010</td>\n",
       "      <td>OUT035</td>\n",
       "      <td>1999</td>\n",
       "      <td>Small</td>\n",
       "      <td>Tier 3</td>\n",
       "      <td>3129.967268</td>\n",
       "    </tr>\n",
       "    <tr>\n",
       "      <th>3</th>\n",
       "      <td>FDJ22</td>\n",
       "      <td>21.050435</td>\n",
       "      <td>Starchy Foods</td>\n",
       "      <td>253.417583</td>\n",
       "      <td>OUT046</td>\n",
       "      <td>1996</td>\n",
       "      <td>Small</td>\n",
       "      <td>Tier 1</td>\n",
       "      <td>1306.514376</td>\n",
       "    </tr>\n",
       "    <tr>\n",
       "      <th>4</th>\n",
       "      <td>FDF47</td>\n",
       "      <td>21.247876</td>\n",
       "      <td>Baking Goods</td>\n",
       "      <td>240.871039</td>\n",
       "      <td>OUT035</td>\n",
       "      <td>1988</td>\n",
       "      <td>Small</td>\n",
       "      <td>Tier 3</td>\n",
       "      <td>1739.769829</td>\n",
       "    </tr>\n",
       "  </tbody>\n",
       "</table>\n",
       "</div>"
      ],
      "text/plain": [
       "  Item_ID     Item_W      Item_Type    Item_MRP Outlet_ID  Outlet_Year  \\\n",
       "0   FDU32  21.027499   Baking Goods  197.352319    OUT046         2004   \n",
       "1   NCT54  21.102371           Meat  148.250214    OUT035         1987   \n",
       "2   FDW08  20.882263    Hard Drinks  205.465010    OUT035         1999   \n",
       "3   FDJ22  21.050435  Starchy Foods  253.417583    OUT046         1996   \n",
       "4   FDF47  21.247876   Baking Goods  240.871039    OUT035         1988   \n",
       "\n",
       "  Outlet_Size Outlet_Location_Type        Sales  \n",
       "0       Small               Tier 2  2689.457781  \n",
       "1       Small               Tier 1  3437.350375  \n",
       "2       Small               Tier 3  3129.967268  \n",
       "3       Small               Tier 1  1306.514376  \n",
       "4       Small               Tier 3  1739.769829  "
      ]
     },
     "execution_count": 3,
     "metadata": {},
     "output_type": "execute_result"
    }
   ],
   "source": [
    "train.head()"
   ]
  },
  {
   "cell_type": "code",
   "execution_count": 4,
   "id": "2e43f3a0",
   "metadata": {},
   "outputs": [
    {
     "data": {
      "text/html": [
       "<div>\n",
       "<style scoped>\n",
       "    .dataframe tbody tr th:only-of-type {\n",
       "        vertical-align: middle;\n",
       "    }\n",
       "\n",
       "    .dataframe tbody tr th {\n",
       "        vertical-align: top;\n",
       "    }\n",
       "\n",
       "    .dataframe thead th {\n",
       "        text-align: right;\n",
       "    }\n",
       "</style>\n",
       "<table border=\"1\" class=\"dataframe\">\n",
       "  <thead>\n",
       "    <tr style=\"text-align: right;\">\n",
       "      <th></th>\n",
       "      <th>Item_ID</th>\n",
       "      <th>Item_W</th>\n",
       "      <th>Item_Type</th>\n",
       "      <th>Item_MRP</th>\n",
       "      <th>Outlet_ID</th>\n",
       "      <th>Outlet_Year</th>\n",
       "      <th>Outlet_Size</th>\n",
       "      <th>Outlet_Location_Type</th>\n",
       "    </tr>\n",
       "  </thead>\n",
       "  <tbody>\n",
       "    <tr>\n",
       "      <th>0</th>\n",
       "      <td>DRM23</td>\n",
       "      <td>10.156725</td>\n",
       "      <td>Snack Foods</td>\n",
       "      <td>119.319482</td>\n",
       "      <td>OUT013</td>\n",
       "      <td>1999</td>\n",
       "      <td>High</td>\n",
       "      <td>Tier 3</td>\n",
       "    </tr>\n",
       "    <tr>\n",
       "      <th>1</th>\n",
       "      <td>FDG47</td>\n",
       "      <td>10.434425</td>\n",
       "      <td>Household</td>\n",
       "      <td>263.600449</td>\n",
       "      <td>OUT018</td>\n",
       "      <td>1987</td>\n",
       "      <td>High</td>\n",
       "      <td>Tier 3</td>\n",
       "    </tr>\n",
       "    <tr>\n",
       "      <th>2</th>\n",
       "      <td>FDN21</td>\n",
       "      <td>11.953589</td>\n",
       "      <td>Health and Hygiene</td>\n",
       "      <td>246.286990</td>\n",
       "      <td>OUT018</td>\n",
       "      <td>1997</td>\n",
       "      <td>High</td>\n",
       "      <td>Tier 1</td>\n",
       "    </tr>\n",
       "    <tr>\n",
       "      <th>3</th>\n",
       "      <td>FDZ23</td>\n",
       "      <td>14.948546</td>\n",
       "      <td>Dairy</td>\n",
       "      <td>136.200508</td>\n",
       "      <td>OUT046</td>\n",
       "      <td>2004</td>\n",
       "      <td>Medium</td>\n",
       "      <td>Tier 2</td>\n",
       "    </tr>\n",
       "    <tr>\n",
       "      <th>4</th>\n",
       "      <td>FDC16</td>\n",
       "      <td>11.080042</td>\n",
       "      <td>Canned</td>\n",
       "      <td>173.145664</td>\n",
       "      <td>OUT018</td>\n",
       "      <td>2009</td>\n",
       "      <td>Medium</td>\n",
       "      <td>Tier 3</td>\n",
       "    </tr>\n",
       "  </tbody>\n",
       "</table>\n",
       "</div>"
      ],
      "text/plain": [
       "  Item_ID     Item_W           Item_Type    Item_MRP Outlet_ID  Outlet_Year  \\\n",
       "0   DRM23  10.156725         Snack Foods  119.319482    OUT013         1999   \n",
       "1   FDG47  10.434425           Household  263.600449    OUT018         1987   \n",
       "2   FDN21  11.953589  Health and Hygiene  246.286990    OUT018         1997   \n",
       "3   FDZ23  14.948546               Dairy  136.200508    OUT046         2004   \n",
       "4   FDC16  11.080042              Canned  173.145664    OUT018         2009   \n",
       "\n",
       "  Outlet_Size Outlet_Location_Type  \n",
       "0        High               Tier 3  \n",
       "1        High               Tier 3  \n",
       "2        High               Tier 1  \n",
       "3      Medium               Tier 2  \n",
       "4      Medium               Tier 3  "
      ]
     },
     "execution_count": 4,
     "metadata": {},
     "output_type": "execute_result"
    }
   ],
   "source": [
    "test.head()"
   ]
  },
  {
   "cell_type": "code",
   "execution_count": 5,
   "id": "65bd039e",
   "metadata": {},
   "outputs": [
    {
     "data": {
      "text/plain": [
       "((87864, 9), (37656, 8))"
      ]
     },
     "execution_count": 5,
     "metadata": {},
     "output_type": "execute_result"
    }
   ],
   "source": [
    "train.shape,test.shape"
   ]
  },
  {
   "cell_type": "code",
   "execution_count": 6,
   "id": "0345368a",
   "metadata": {},
   "outputs": [
    {
     "data": {
      "text/plain": [
       "Item_ID                 0.0\n",
       "Item_W                  0.0\n",
       "Item_Type               0.0\n",
       "Item_MRP                0.0\n",
       "Outlet_ID               0.0\n",
       "Outlet_Year             0.0\n",
       "Outlet_Size             0.0\n",
       "Outlet_Location_Type    0.0\n",
       "Sales                   0.0\n",
       "dtype: float64"
      ]
     },
     "execution_count": 6,
     "metadata": {},
     "output_type": "execute_result"
    }
   ],
   "source": [
    "#ratio of null values\n",
    "train.isnull().sum()/train.shape[0] *100"
   ]
  },
  {
   "cell_type": "code",
   "execution_count": 7,
   "id": "dde05c03",
   "metadata": {},
   "outputs": [
    {
     "data": {
      "text/plain": [
       "Item_ID                 0.0\n",
       "Item_W                  0.0\n",
       "Item_Type               0.0\n",
       "Item_MRP                0.0\n",
       "Outlet_ID               0.0\n",
       "Outlet_Year             0.0\n",
       "Outlet_Size             0.0\n",
       "Outlet_Location_Type    0.0\n",
       "dtype: float64"
      ]
     },
     "execution_count": 7,
     "metadata": {},
     "output_type": "execute_result"
    }
   ],
   "source": [
    "#ratio of null values\n",
    "test.isnull().sum()/train.shape[0] *100"
   ]
  },
  {
   "cell_type": "code",
   "execution_count": 8,
   "id": "5ade5375",
   "metadata": {},
   "outputs": [
    {
     "data": {
      "text/plain": [
       "Item_ID                  object\n",
       "Item_W                  float64\n",
       "Item_Type                object\n",
       "Item_MRP                float64\n",
       "Outlet_ID                object\n",
       "Outlet_Year               int64\n",
       "Outlet_Size              object\n",
       "Outlet_Location_Type     object\n",
       "Sales                   float64\n",
       "dtype: object"
      ]
     },
     "execution_count": 8,
     "metadata": {},
     "output_type": "execute_result"
    }
   ],
   "source": [
    "train.dtypes"
   ]
  },
  {
   "cell_type": "code",
   "execution_count": 9,
   "id": "93ee29b1",
   "metadata": {},
   "outputs": [
    {
     "data": {
      "text/plain": [
       "Item_ID                  object\n",
       "Item_W                  float64\n",
       "Item_Type                object\n",
       "Item_MRP                float64\n",
       "Outlet_ID                object\n",
       "Outlet_Year               int64\n",
       "Outlet_Size              object\n",
       "Outlet_Location_Type     object\n",
       "dtype: object"
      ]
     },
     "execution_count": 9,
     "metadata": {},
     "output_type": "execute_result"
    }
   ],
   "source": [
    "test.dtypes"
   ]
  },
  {
   "cell_type": "markdown",
   "id": "8b322da4",
   "metadata": {},
   "source": [
    "# Data Cleaning"
   ]
  },
  {
   "cell_type": "markdown",
   "id": "8480dafe",
   "metadata": {},
   "source": [
    "Why missing values treatment is required? Missing data in the training data set can reduce the power / fit of a model or can lead to a biased model because we have not analysed the behavior and relationship with other variables correctly. It can lead to wrong prediction."
   ]
  },
  {
   "cell_type": "code",
   "execution_count": 10,
   "id": "02fa1d34",
   "metadata": {},
   "outputs": [
    {
     "data": {
      "text/plain": [
       "Item_ID                 0\n",
       "Item_W                  0\n",
       "Item_Type               0\n",
       "Item_MRP                0\n",
       "Outlet_ID               0\n",
       "Outlet_Year             0\n",
       "Outlet_Size             0\n",
       "Outlet_Location_Type    0\n",
       "Sales                   0\n",
       "dtype: int64"
      ]
     },
     "execution_count": 10,
     "metadata": {},
     "output_type": "execute_result"
    }
   ],
   "source": [
    "train.isnull().sum()"
   ]
  },
  {
   "cell_type": "code",
   "execution_count": 11,
   "id": "51ae0d66",
   "metadata": {},
   "outputs": [
    {
     "data": {
      "text/plain": [
       "Item_ID                 0\n",
       "Item_W                  0\n",
       "Item_Type               0\n",
       "Item_MRP                0\n",
       "Outlet_ID               0\n",
       "Outlet_Year             0\n",
       "Outlet_Size             0\n",
       "Outlet_Location_Type    0\n",
       "dtype: int64"
      ]
     },
     "execution_count": 11,
     "metadata": {},
     "output_type": "execute_result"
    }
   ],
   "source": [
    "test.isnull().sum()"
   ]
  },
  {
   "cell_type": "code",
   "execution_count": 12,
   "id": "a6b6b937",
   "metadata": {},
   "outputs": [],
   "source": [
    "train.drop(columns=['Item_ID'],axis = 1,inplace = True)"
   ]
  },
  {
   "cell_type": "code",
   "execution_count": 13,
   "id": "227f11c2",
   "metadata": {},
   "outputs": [
    {
     "name": "stderr",
     "output_type": "stream",
     "text": [
      "<ipython-input-13-afa1baf55959>:1: FutureWarning: Indexing with multiple keys (implicitly converted to a tuple of keys) will be deprecated, use a list instead.\n",
      "  train.groupby('Item_Type')['Item_MRP','Item_W'].mean()\n"
     ]
    },
    {
     "data": {
      "text/html": [
       "<div>\n",
       "<style scoped>\n",
       "    .dataframe tbody tr th:only-of-type {\n",
       "        vertical-align: middle;\n",
       "    }\n",
       "\n",
       "    .dataframe tbody tr th {\n",
       "        vertical-align: top;\n",
       "    }\n",
       "\n",
       "    .dataframe thead th {\n",
       "        text-align: right;\n",
       "    }\n",
       "</style>\n",
       "<table border=\"1\" class=\"dataframe\">\n",
       "  <thead>\n",
       "    <tr style=\"text-align: right;\">\n",
       "      <th></th>\n",
       "      <th>Item_MRP</th>\n",
       "      <th>Item_W</th>\n",
       "    </tr>\n",
       "    <tr>\n",
       "      <th>Item_Type</th>\n",
       "      <th></th>\n",
       "      <th></th>\n",
       "    </tr>\n",
       "  </thead>\n",
       "  <tbody>\n",
       "    <tr>\n",
       "      <th>Baking Goods</th>\n",
       "      <td>150.702459</td>\n",
       "      <td>15.053796</td>\n",
       "    </tr>\n",
       "    <tr>\n",
       "      <th>Breads</th>\n",
       "      <td>147.199312</td>\n",
       "      <td>15.270986</td>\n",
       "    </tr>\n",
       "    <tr>\n",
       "      <th>Breakfast</th>\n",
       "      <td>156.858735</td>\n",
       "      <td>16.637266</td>\n",
       "    </tr>\n",
       "    <tr>\n",
       "      <th>Canned</th>\n",
       "      <td>153.352637</td>\n",
       "      <td>16.179592</td>\n",
       "    </tr>\n",
       "    <tr>\n",
       "      <th>Dairy</th>\n",
       "      <td>155.376347</td>\n",
       "      <td>16.564873</td>\n",
       "    </tr>\n",
       "    <tr>\n",
       "      <th>Frozen Foods</th>\n",
       "      <td>154.739848</td>\n",
       "      <td>16.436911</td>\n",
       "    </tr>\n",
       "    <tr>\n",
       "      <th>Fruits and Vegetables</th>\n",
       "      <td>147.637898</td>\n",
       "      <td>15.340384</td>\n",
       "    </tr>\n",
       "    <tr>\n",
       "      <th>Hard Drinks</th>\n",
       "      <td>151.503811</td>\n",
       "      <td>14.901788</td>\n",
       "    </tr>\n",
       "    <tr>\n",
       "      <th>Health and Hygiene</th>\n",
       "      <td>154.309473</td>\n",
       "      <td>16.252626</td>\n",
       "    </tr>\n",
       "    <tr>\n",
       "      <th>Household</th>\n",
       "      <td>154.517991</td>\n",
       "      <td>16.264300</td>\n",
       "    </tr>\n",
       "    <tr>\n",
       "      <th>Meat</th>\n",
       "      <td>151.695326</td>\n",
       "      <td>14.918820</td>\n",
       "    </tr>\n",
       "    <tr>\n",
       "      <th>Others</th>\n",
       "      <td>148.687969</td>\n",
       "      <td>14.957866</td>\n",
       "    </tr>\n",
       "    <tr>\n",
       "      <th>Seafood</th>\n",
       "      <td>151.255273</td>\n",
       "      <td>15.184987</td>\n",
       "    </tr>\n",
       "    <tr>\n",
       "      <th>Snack Foods</th>\n",
       "      <td>154.001620</td>\n",
       "      <td>16.476871</td>\n",
       "    </tr>\n",
       "    <tr>\n",
       "      <th>Soft Drinks</th>\n",
       "      <td>149.410418</td>\n",
       "      <td>15.513756</td>\n",
       "    </tr>\n",
       "    <tr>\n",
       "      <th>Starchy Foods</th>\n",
       "      <td>148.300318</td>\n",
       "      <td>15.280808</td>\n",
       "    </tr>\n",
       "  </tbody>\n",
       "</table>\n",
       "</div>"
      ],
      "text/plain": [
       "                         Item_MRP     Item_W\n",
       "Item_Type                                   \n",
       "Baking Goods           150.702459  15.053796\n",
       "Breads                 147.199312  15.270986\n",
       "Breakfast              156.858735  16.637266\n",
       "Canned                 153.352637  16.179592\n",
       "Dairy                  155.376347  16.564873\n",
       "Frozen Foods           154.739848  16.436911\n",
       "Fruits and Vegetables  147.637898  15.340384\n",
       "Hard Drinks            151.503811  14.901788\n",
       "Health and Hygiene     154.309473  16.252626\n",
       "Household              154.517991  16.264300\n",
       "Meat                   151.695326  14.918820\n",
       "Others                 148.687969  14.957866\n",
       "Seafood                151.255273  15.184987\n",
       "Snack Foods            154.001620  16.476871\n",
       "Soft Drinks            149.410418  15.513756\n",
       "Starchy Foods          148.300318  15.280808"
      ]
     },
     "execution_count": 13,
     "metadata": {},
     "output_type": "execute_result"
    }
   ],
   "source": [
    "train.groupby('Item_Type')['Item_MRP','Item_W'].mean()"
   ]
  },
  {
   "cell_type": "code",
   "execution_count": 14,
   "id": "6037b98c",
   "metadata": {},
   "outputs": [
    {
     "data": {
      "text/plain": [
       "Outlet_Size  Outlet_Location_Type\n",
       "High         Tier 1                   3807\n",
       "             Tier 2                   3059\n",
       "             Tier 3                   5701\n",
       "Medium       Tier 1                   4995\n",
       "             Tier 2                   3417\n",
       "             Tier 3                  18271\n",
       "Small        Tier 1                  24765\n",
       "             Tier 2                  18777\n",
       "             Tier 3                   5072\n",
       "Name: Sales, dtype: int64"
      ]
     },
     "execution_count": 14,
     "metadata": {},
     "output_type": "execute_result"
    }
   ],
   "source": [
    "train.groupby(['Outlet_Size','Outlet_Location_Type'])['Sales'].count()"
   ]
  },
  {
   "cell_type": "code",
   "execution_count": 15,
   "id": "c5b8215f",
   "metadata": {},
   "outputs": [
    {
     "data": {
      "text/plain": [
       "<AxesSubplot:>"
      ]
     },
     "execution_count": 15,
     "metadata": {},
     "output_type": "execute_result"
    },
    {
     "data": {
      "image/png": "[encoded data removed]",
      "text/plain": [
       "<Figure size 432x288 with 1 Axes>"
      ]
     },
     "metadata": {
      "needs_background": "light"
     },
     "output_type": "display_data"
    }
   ],
   "source": [
    "train.boxplot(column = 'Sales')"
   ]
  },
  {
   "cell_type": "code",
   "execution_count": 16,
   "id": "68df2cc7",
   "metadata": {},
   "outputs": [
    {
     "name": "stdout",
     "output_type": "stream",
     "text": [
      "IQR for train : Item_W            9.001278\n",
      "Item_MRP         84.687030\n",
      "Outlet_Year       7.000000\n",
      "Sales          1648.808061\n",
      "dtype: float64\n"
     ]
    }
   ],
   "source": [
    "q1 = train.quantile(q = 0.25)\n",
    "q3 = train.quantile(q = 0.75)\n",
    "iqr = q3 - q1\n",
    "print('IQR for train :',iqr)"
   ]
  },
  {
   "cell_type": "code",
   "execution_count": 17,
   "id": "ceff6589",
   "metadata": {},
   "outputs": [],
   "source": [
    "def remove_outlier(col):\n",
    "    sorted(col)\n",
    "    Q1,Q3=col.quantile([0.25,0.75])\n",
    "    IQR = Q3-Q1\n",
    "    lower_range = Q1-(1.5*IQR)\n",
    "    upper_range = Q3+(1.5*IQR)\n",
    "    return lower_range,upper_range"
   ]
  },
  {
   "cell_type": "code",
   "execution_count": 18,
   "id": "b9a82f61",
   "metadata": {},
   "outputs": [],
   "source": [
    "lowprice,uppprice = remove_outlier(train['Sales'])\n",
    "train['Sales']=np.where(train['Sales']>uppprice,uppprice,train['Sales'])\n",
    "train['Sales']=np.where(train['Sales']<lowprice,lowprice,train['Sales'])"
   ]
  },
  {
   "cell_type": "code",
   "execution_count": 19,
   "id": "fd5c6541",
   "metadata": {},
   "outputs": [],
   "source": [
    "lowprice,uppprice = remove_outlier(train['Item_MRP'])\n",
    "train['Item_MRP']=np.where(train['Item_MRP']>uppprice,uppprice,train['Item_MRP'])\n",
    "train['Item_MRP']=np.where(train['Item_MRP']<lowprice,lowprice,train['Item_MRP'])"
   ]
  },
  {
   "cell_type": "code",
   "execution_count": 20,
   "id": "3874812b",
   "metadata": {},
   "outputs": [],
   "source": [
    "from sklearn.preprocessing import LabelEncoder\n",
    "le = LabelEncoder()\n",
    "var_mod = train.select_dtypes(include='object').columns\n",
    "for i in var_mod:\n",
    "    train[i] = le.fit_transform(train[i])\n",
    "    \n",
    "for i in var_mod:\n",
    "    test[i] = le.fit_transform(test[i])"
   ]
  },
  {
   "cell_type": "code",
   "execution_count": 21,
   "id": "e6931546",
   "metadata": {},
   "outputs": [],
   "source": [
    "#df_train=train.drop('#Order',axis=1)\n",
    "X=train.iloc[:,0:8].values"
   ]
  },
  {
   "cell_type": "code",
   "execution_count": 22,
   "id": "2c463a0d",
   "metadata": {},
   "outputs": [],
   "source": [
    "y=train.iloc[:,-1].values"
   ]
  },
  {
   "cell_type": "code",
   "execution_count": 23,
   "id": "03225358",
   "metadata": {},
   "outputs": [],
   "source": [
    "from sklearn.model_selection import train_test_split\n",
    "X_train,X_test,y_train,y_test = train_test_split(X,y,test_size=0.20)#,random_state=7)"
   ]
  },
  {
   "cell_type": "code",
   "execution_count": 25,
   "id": "8154a6b4",
   "metadata": {},
   "outputs": [
    {
     "ename": "AttributeError",
     "evalue": "'numpy.ndarray' object has no attribute 'columns'",
     "output_type": "error",
     "traceback": [
      "\u001b[1;31m---------------------------------------------------------------------------\u001b[0m",
      "\u001b[1;31mAttributeError\u001b[0m                            Traceback (most recent call last)",
      "\u001b[1;32m<ipython-input-25-7b95414d5799>\u001b[0m in \u001b[0;36m<module>\u001b[1;34m\u001b[0m\n\u001b[0;32m     14\u001b[0m     \u001b[1;32mreturn\u001b[0m \u001b[0mfeatures\u001b[0m\u001b[1;33m\u001b[0m\u001b[1;33m\u001b[0m\u001b[0m\n\u001b[0;32m     15\u001b[0m \u001b[1;33m\u001b[0m\u001b[0m\n\u001b[1;32m---> 16\u001b[1;33m \u001b[0mfeatures\u001b[0m \u001b[1;33m=\u001b[0m \u001b[0mbackward_elimination\u001b[0m\u001b[1;33m(\u001b[0m\u001b[0mX_train\u001b[0m\u001b[1;33m,\u001b[0m\u001b[0my_train\u001b[0m\u001b[1;33m)\u001b[0m\u001b[1;33m\u001b[0m\u001b[1;33m\u001b[0m\u001b[0m\n\u001b[0m",
      "\u001b[1;32m<ipython-input-25-7b95414d5799>\u001b[0m in \u001b[0;36mbackward_elimination\u001b[1;34m(train, target, significance_level)\u001b[0m\n\u001b[0;32m      2\u001b[0m \u001b[1;32mfrom\u001b[0m \u001b[0msklearn\u001b[0m\u001b[1;33m.\u001b[0m\u001b[0mpreprocessing\u001b[0m \u001b[1;32mimport\u001b[0m \u001b[0mMinMaxScaler\u001b[0m\u001b[1;33m\u001b[0m\u001b[1;33m\u001b[0m\u001b[0m\n\u001b[0;32m      3\u001b[0m \u001b[1;32mdef\u001b[0m \u001b[0mbackward_elimination\u001b[0m\u001b[1;33m(\u001b[0m\u001b[0mtrain\u001b[0m\u001b[1;33m,\u001b[0m \u001b[0mtarget\u001b[0m\u001b[1;33m,\u001b[0m\u001b[0msignificance_level\u001b[0m \u001b[1;33m=\u001b[0m \u001b[1;36m0.05\u001b[0m\u001b[1;33m)\u001b[0m\u001b[1;33m:\u001b[0m\u001b[1;33m\u001b[0m\u001b[1;33m\u001b[0m\u001b[0m\n\u001b[1;32m----> 4\u001b[1;33m     \u001b[0mfeatures\u001b[0m \u001b[1;33m=\u001b[0m \u001b[0mtrain\u001b[0m\u001b[1;33m.\u001b[0m\u001b[0mcolumns\u001b[0m\u001b[1;33m.\u001b[0m\u001b[0mtolist\u001b[0m\u001b[1;33m(\u001b[0m\u001b[1;33m)\u001b[0m\u001b[1;33m\u001b[0m\u001b[1;33m\u001b[0m\u001b[0m\n\u001b[0m\u001b[0;32m      5\u001b[0m     \u001b[1;32mwhile\u001b[0m\u001b[1;33m(\u001b[0m\u001b[0mlen\u001b[0m\u001b[1;33m(\u001b[0m\u001b[0mfeatures\u001b[0m\u001b[1;33m)\u001b[0m\u001b[1;33m>\u001b[0m\u001b[1;36m0\u001b[0m\u001b[1;33m)\u001b[0m\u001b[1;33m:\u001b[0m\u001b[1;33m\u001b[0m\u001b[1;33m\u001b[0m\u001b[0m\n\u001b[0;32m      6\u001b[0m         \u001b[0mfeatures_with_constant\u001b[0m \u001b[1;33m=\u001b[0m \u001b[0msm\u001b[0m\u001b[1;33m.\u001b[0m\u001b[0madd_constant\u001b[0m\u001b[1;33m(\u001b[0m\u001b[0mtrain\u001b[0m\u001b[1;33m[\u001b[0m\u001b[0mfeatures\u001b[0m\u001b[1;33m]\u001b[0m\u001b[1;33m)\u001b[0m\u001b[1;33m\u001b[0m\u001b[1;33m\u001b[0m\u001b[0m\n",
      "\u001b[1;31mAttributeError\u001b[0m: 'numpy.ndarray' object has no attribute 'columns'"
     ]
    }
   ],
   "source": [
    "import statsmodels.api as sm\n",
    "from sklearn.preprocessing import MinMaxScaler\n",
    "def backward_elimination(train, target,significance_level = 0.05):\n",
    "    features = train.columns.tolist()\n",
    "    while(len(features)>0):\n",
    "        features_with_constant = sm.add_constant(train[features])\n",
    "        p_values = sm.OLS(target, features_with_constant).fit().pvalues[1:]\n",
    "        max_p_value = p_values.max()\n",
    "        if(max_p_value >= significance_level):\n",
    "            excluded_feature = p_values.idxmax()\n",
    "            features.remove(excluded_feature)\n",
    "        else:\n",
    "            break \n",
    "    return features\n",
    "\n",
    "features = backward_elimination(X_train,y_train)"
   ]
  },
  {
   "cell_type": "code",
   "execution_count": null,
   "id": "dd3181d2",
   "metadata": {},
   "outputs": [],
   "source": [
    "features = list(set(features))"
   ]
  },
  {
   "cell_type": "code",
   "execution_count": null,
   "id": "eec7887e",
   "metadata": {},
   "outputs": [],
   "source": [
    "from sklearn.linear_model import LinearRegression, Lasso, Ridge\n",
    "from sklearn.tree import DecisionTreeRegressor\n",
    "from sklearn.ensemble import RandomForestRegressor\n",
    "from sklearn.svm import SVR\n",
    "from sklearn.model_selection import train_test_split\n",
    "from sklearn.metrics import mean_squared_error"
   ]
  },
  {
   "cell_type": "code",
   "execution_count": null,
   "id": "58ef08b4",
   "metadata": {},
   "outputs": [],
   "source": [
    "lr = LinearRegression()\n",
    "ls = Lasso()\n",
    "rd = Ridge()\n",
    "dr = DecisionTreeRegressor()\n",
    "svr = SVR(kernel = 'rbf')"
   ]
  },
  {
   "cell_type": "code",
   "execution_count": null,
   "id": "f95a5b63",
   "metadata": {},
   "outputs": [],
   "source": [
    "lr.fit(X_train[features],y_train)"
   ]
  },
  {
   "cell_type": "code",
   "execution_count": null,
   "id": "d05b3d21",
   "metadata": {},
   "outputs": [],
   "source": [
    "y_pred = lr.predict(X_val[features])"
   ]
  },
  {
   "cell_type": "code",
   "execution_count": null,
   "id": "ddf215ca",
   "metadata": {},
   "outputs": [],
   "source": []
  },
  {
   "cell_type": "markdown",
   "id": "fa5bac1a",
   "metadata": {},
   "source": [
    "Encoding the required columns from training and test dataset"
   ]
  },
  {
   "cell_type": "code",
   "execution_count": null,
   "id": "bc751167",
   "metadata": {},
   "outputs": [],
   "source": [
    "train.dtypes"
   ]
  },
  {
   "cell_type": "code",
   "execution_count": null,
   "id": "be03e4da",
   "metadata": {},
   "outputs": [],
   "source": [
    "test.dtypes"
   ]
  },
  {
   "cell_type": "code",
   "execution_count": null,
   "id": "881df66f",
   "metadata": {},
   "outputs": [],
   "source": [
    "train.head()"
   ]
  },
  {
   "cell_type": "code",
   "execution_count": null,
   "id": "3e3f837a",
   "metadata": {},
   "outputs": [],
   "source": [
    "train.iloc[:,0:8]"
   ]
  },
  {
   "cell_type": "code",
   "execution_count": null,
   "id": "e0aaeb46",
   "metadata": {},
   "outputs": [],
   "source": [
    "train.iloc[:,-1]"
   ]
  },
  {
   "cell_type": "markdown",
   "id": "1689e4b1",
   "metadata": {},
   "source": [
    "from sklearn import metrics\n",
    "from sklearn.linear_model import LinearRegression"
   ]
  },
  {
   "cell_type": "markdown",
   "id": "76ee11fd",
   "metadata": {},
   "source": [
    "# importing module\n",
    "from sklearn.linear_model import LinearRegression\n",
    "# creating an object of LinearRegression class\n",
    "LR = LinearRegression()\n",
    "# fitting the training data\n",
    "LR.fit(X_train,y_train)\n"
   ]
  },
  {
   "cell_type": "markdown",
   "id": "86355e82",
   "metadata": {},
   "source": [
    "y_pred =  LR.predict(X_test)\n",
    "y_pred"
   ]
  },
  {
   "cell_type": "markdown",
   "id": "7868e9f5",
   "metadata": {},
   "source": [
    "from sklearn import metrics #Import scikit-learn metrics module for accuracy calculation\n",
    "\n",
    "print(\"Accuracy:\",metrics.accuracy_score(y_test,y_pred))"
   ]
  },
  {
   "cell_type": "code",
   "execution_count": null,
   "id": "096d493f",
   "metadata": {},
   "outputs": [],
   "source": [
    "from sklearn.preprocessing import MinMaxScaler\n",
    "scaler = MinMaxScaler(feature_range=(0, 1))\n",
    "from sklearn.metrics import mean_squared_error \n",
    "from math import sqrt\n",
    "X_train_scaled = scaler.fit_transform(X_train)\n",
    "X_train = pd.DataFrame(X_train_scaled)\n",
    "\n",
    "X_test_scaled = scaler.fit_transform(X_test)\n",
    "X_test = pd.DataFrame(X_test_scaled)"
   ]
  },
  {
   "cell_type": "code",
   "execution_count": null,
   "id": "a3e69a05",
   "metadata": {},
   "outputs": [],
   "source": [
    "from sklearn import neighbors"
   ]
  },
  {
   "cell_type": "code",
   "execution_count": null,
   "id": "7d90be53",
   "metadata": {},
   "outputs": [],
   "source": [
    "rmse_val = [] \n",
    "for K in range(20):\n",
    "    K = K+1\n",
    "    model = neighbors.KNeighborsRegressor(n_neighbors = K)\n",
    "\n",
    "    model.fit(X_train, y_train)  #fit the model\n",
    "    pred=model.predict(X_test) #make prediction on test set\n",
    "    error = sqrt(mean_squared_error(y_test,pred)) #calculate rmse\n",
    "    rmse_val.append(error) #store rmse values\n",
    "    print('RMSE value for k= ' , K , 'is:', error)"
   ]
  },
  {
   "cell_type": "code",
   "execution_count": null,
   "id": "e84f1be7",
   "metadata": {},
   "outputs": [],
   "source": [
    "#plotting the rmse values against k values\n",
    "curve = pd.DataFrame(rmse_val) #elbow curve \n",
    "curve.plot()"
   ]
  },
  {
   "cell_type": "markdown",
   "id": "9740cb01",
   "metadata": {},
   "source": [
    "As we discussed, when we take k=1, we get a very high RMSE value. The RMSE value decreases as we increase the k value. "
   ]
  },
  {
   "cell_type": "markdown",
   "id": "2b07a395",
   "metadata": {},
   "source": [
    "from sklearn.tree import DecisionTreeClassifier # Import Decision Tree Classifier"
   ]
  },
  {
   "cell_type": "markdown",
   "id": "fac29608",
   "metadata": {},
   "source": [
    "# Create Decision Tree classifer object\n",
    "clf = DecisionTreeClassifier()\n",
    "\n",
    "# Train Decision Tree Classifer\n",
    "clf = clf.fit(X_train,y_train)\n",
    "\n",
    "#Predict the response for test dataset\n",
    "y_pred = clf.predict(X_test)"
   ]
  },
  {
   "cell_type": "code",
   "execution_count": null,
   "id": "ef2cfc28",
   "metadata": {},
   "outputs": [],
   "source": [
    "# import the regressor\n",
    "from sklearn.tree import DecisionTreeRegressor \n",
    "  \n",
    "# create a regressor object\n",
    "regressor = DecisionTreeRegressor(random_state = 0) \n",
    "  \n",
    "# fit the regressor with X and Y data\n",
    "regressor.fit(X_train, y_train)"
   ]
  },
  {
   "cell_type": "code",
   "execution_count": null,
   "id": "9481eff5",
   "metadata": {},
   "outputs": [],
   "source": [
    "pred=regressor.predict(X_test)"
   ]
  },
  {
   "cell_type": "code",
   "execution_count": null,
   "id": "f7b4fce2",
   "metadata": {},
   "outputs": [],
   "source": []
  }
 ],
 "metadata": {
  "kernelspec": {
   "display_name": "Python 3",
   "language": "python",
   "name": "python3"
  },
  "language_info": {
   "codemirror_mode": {
    "name": "ipython",
    "version": 3
   },
   "file_extension": ".py",
   "mimetype": "text/x-python",
   "name": "python",
   "nbconvert_exporter": "python",
   "pygments_lexer": "ipython3",
   "version": "3.8.8"
  }
 },
 "nbformat": 4,
 "nbformat_minor": 5
}
